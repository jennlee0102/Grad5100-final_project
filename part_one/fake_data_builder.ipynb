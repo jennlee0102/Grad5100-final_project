{
 "cells": [
  {
   "cell_type": "markdown",
   "id": "b4944641",
   "metadata": {},
   "source": [
    "## Part One\n",
    "\n",
    "In this part of the final project, you will generate a data set that has certain statistical properties. “Synthetic” or “Fake” data can be useful for developing and testing algorithms and models.<br/>\n",
    "\n",
    "Your solution to this part will consist of:<br>\n",
    "- a jupyter notebook called fake_data_builder that:<br>\n",
    "    a. carries out the construction of the desired dataset<br>\n",
    "    b. answers the questions and provides the plots requested below<br>\n",
    "- a copy of the fake_data.csv file that you construct.<br>\n",
    "\n",
    "I should be able to work through your ipynb file and build the desired dataset.\n",
    "This jupyter notebook and associated fake_data.csv file should be included in your Git repository.<br>\n",
    "\n",
    "Your dataset has the following properties:<br>\n",
    "- There are 800 samples.<br>\n",
    "- Each sample from the dataset has five features called ID, Group, Feature_1, Feature_2 and Feature_3.<br> \n",
    "- The ID feature is a unique identifier for each sample. The identifier has the form IDxxx where x is a three digit number.<br>\n",
    "- The Group feature is either A, B, or C. Roughly a third of each sample lies in each group.<br>\n",
    "- Feature_1 is sampled randomly from a normal distribution with mean 2500. About 66% of the data falls between 2200 and 2800.<br>\n",
    "- Feature_2 is sampled randomly from a normal distribution with mean 400 and standard deviation 15.<br>\n",
    "- Feature_3 depends on the Group feature. For A, Feature_3 is approximately 3(Feature_1)-5(Feature_2). For B, Feature_3 is approximately 2(Feature_1). For C, Feature_3 is approximately -(Feature_1)+(Feature_2). In each of cases A, B, and C the difference between Feature_3 and the value given by the formula is a normally distributed random variable with mean 0 and standard deviation 12.<br>\n",
    "\n",
    "\n",
    "Hint: You build a pandas dataframe from lists or vectors from a dictionary: df = pd.DataFrame({'column_name_one': data 1, 'column_name_two: data 2...}). You build a tibble from named lists df = tibble(column_name_one = data 1, ...)"
   ]
  },
  {
   "cell_type": "code",
   "execution_count": 1,
   "id": "f19c32d4",
   "metadata": {},
   "outputs": [],
   "source": [
    "import numpy as np\n",
    "import pandas as pd\n",
    "import matplotlib.pyplot as plt\n",
    "import random\n",
    "from scipy.stats import norm"
   ]
  },
  {
   "cell_type": "markdown",
   "id": "e2ddc6a6",
   "metadata": {},
   "source": [
    "### 1. Create a dataframe or tibble representing this dataset that has the desired properties."
   ]
  },
  {
   "cell_type": "markdown",
   "id": "ba37faf9",
   "metadata": {},
   "source": [
    "#### Feature 1\n",
    "Based on the bell-shaped normal distribution graph,\n",
    "50 + 66/2 = 83 <br>\n",
    "The quantile of N(0,1) under the probability of 83%"
   ]
  },
  {
   "cell_type": "code",
   "execution_count": 2,
   "id": "8223638f",
   "metadata": {
    "scrolled": true
   },
   "outputs": [
    {
     "data": {
      "text/html": [
       "<div>\n",
       "<style scoped>\n",
       "    .dataframe tbody tr th:only-of-type {\n",
       "        vertical-align: middle;\n",
       "    }\n",
       "\n",
       "    .dataframe tbody tr th {\n",
       "        vertical-align: top;\n",
       "    }\n",
       "\n",
       "    .dataframe thead th {\n",
       "        text-align: right;\n",
       "    }\n",
       "</style>\n",
       "<table border=\"1\" class=\"dataframe\">\n",
       "  <thead>\n",
       "    <tr style=\"text-align: right;\">\n",
       "      <th></th>\n",
       "      <th>ID</th>\n",
       "      <th>Group</th>\n",
       "      <th>Feature_1</th>\n",
       "      <th>Feature_2</th>\n",
       "      <th>Feature_3</th>\n",
       "    </tr>\n",
       "  </thead>\n",
       "  <tbody>\n",
       "    <tr>\n",
       "      <th>0</th>\n",
       "      <td>ID001</td>\n",
       "      <td>C</td>\n",
       "      <td>2894.009802</td>\n",
       "      <td>424.948910</td>\n",
       "      <td>-2469.060892</td>\n",
       "    </tr>\n",
       "    <tr>\n",
       "      <th>1</th>\n",
       "      <td>ID002</td>\n",
       "      <td>A</td>\n",
       "      <td>2031.234528</td>\n",
       "      <td>385.056914</td>\n",
       "      <td>4168.419016</td>\n",
       "    </tr>\n",
       "    <tr>\n",
       "      <th>2</th>\n",
       "      <td>ID003</td>\n",
       "      <td>A</td>\n",
       "      <td>2491.280151</td>\n",
       "      <td>422.826397</td>\n",
       "      <td>5359.708465</td>\n",
       "    </tr>\n",
       "    <tr>\n",
       "      <th>3</th>\n",
       "      <td>ID004</td>\n",
       "      <td>A</td>\n",
       "      <td>2932.389240</td>\n",
       "      <td>403.662626</td>\n",
       "      <td>6778.854590</td>\n",
       "    </tr>\n",
       "    <tr>\n",
       "      <th>4</th>\n",
       "      <td>ID005</td>\n",
       "      <td>B</td>\n",
       "      <td>2492.074275</td>\n",
       "      <td>406.349961</td>\n",
       "      <td>4984.148551</td>\n",
       "    </tr>\n",
       "  </tbody>\n",
       "</table>\n",
       "</div>"
      ],
      "text/plain": [
       "      ID Group    Feature_1   Feature_2    Feature_3\n",
       "0  ID001     C  2894.009802  424.948910 -2469.060892\n",
       "1  ID002     A  2031.234528  385.056914  4168.419016\n",
       "2  ID003     A  2491.280151  422.826397  5359.708465\n",
       "3  ID004     A  2932.389240  403.662626  6778.854590\n",
       "4  ID005     B  2492.074275  406.349961  4984.148551"
      ]
     },
     "execution_count": 2,
     "metadata": {},
     "output_type": "execute_result"
    }
   ],
   "source": [
    "# set a seed num for reproducibility\n",
    "np.random.seed(12345)\n",
    "\n",
    "# function to generate fake data as required\n",
    "def generate_fake_data(n=800, mean_1 = 2500, mean_2 = 400, std_2 = 15):\n",
    "    # ID feature\n",
    "    ids = []\n",
    "    for i in range(1, n + 1):\n",
    "        ids.append('ID{:03d}'.format(i))\n",
    "    ids = ['ID{:03d}'.format(i) for i in range(1, n + 1)]\n",
    "\n",
    "    # Group feature\n",
    "    # np.random.choice(a(array-like), size of int, replace = True)\n",
    "    groups = np.random.choice(['A', 'B', 'C'], size=n, p=[1/3, 1/3, 1/3])\n",
    "\n",
    "    # Feature_1\n",
    "    p = 0.83\n",
    "    # find the value(q) corresponding to the desired percentile,\n",
    "    # then using q to determine the standard deviation\n",
    "    q = norm.ppf(p)\n",
    "    std_1 = (2800 - (2200 + 2800) / 2) / q\n",
    "    # std_1 = 300\n",
    "    feature_1 = np.random.normal(mean_1, std_1, n)\n",
    "    \n",
    "    # Feature_2\n",
    "    feature_2 = np.random.normal(mean_2, std_2, n)\n",
    "\n",
    "    # Feature_3 based on Group feature\n",
    "    def calculate_feature_3(row):\n",
    "        if row['Group'] == 'A':\n",
    "            return 3 * row['Feature_1'] - 5 * row['Feature_2']\n",
    "        elif row['Group'] == 'B':\n",
    "            return 2 * row['Feature_1']\n",
    "        else:\n",
    "            return -row['Feature_1'] + row['Feature_2']\n",
    "    \n",
    "    # DataFrame\n",
    "    df = pd.DataFrame({'ID': ids, 'Group': groups, 'Feature_1': feature_1, 'Feature_2': feature_2})\n",
    "    \n",
    "    # Feature_3\n",
    "    df['Feature_3'] = df.apply(calculate_feature_3, axis=1)\n",
    "\n",
    "    return df\n",
    "\n",
    "# Create a dataframe or tibble representing this dataset that has the desired properties.\n",
    "fake_data = generate_fake_data()\n",
    "fake_data.head()"
   ]
  },
  {
   "cell_type": "code",
   "execution_count": 3,
   "id": "6235eb68",
   "metadata": {},
   "outputs": [
    {
     "data": {
      "text/plain": [
       "C    271\n",
       "B    267\n",
       "A    262\n",
       "Name: Group, dtype: int64"
      ]
     },
     "execution_count": 3,
     "metadata": {},
     "output_type": "execute_result"
    }
   ],
   "source": [
    "# check # of data in each group\n",
    "fake_data['Group'].value_counts()"
   ]
  },
  {
   "cell_type": "code",
   "execution_count": 4,
   "id": "b93489fa",
   "metadata": {
    "scrolled": true
   },
   "outputs": [
    {
     "data": {
      "text/plain": [
       "0.68375"
      ]
     },
     "execution_count": 4,
     "metadata": {},
     "output_type": "execute_result"
    }
   ],
   "source": [
    "# check if about 66% of the data falls between 2200 and 2800\n",
    "data_66 = len(fake_data[(fake_data.Feature_1 > 2200) & (fake_data.Feature_1 < 2800)])\n",
    "data_66/len(fake_data)"
   ]
  },
  {
   "cell_type": "markdown",
   "id": "762acc43",
   "metadata": {},
   "source": [
    "### 2. "
   ]
  },
  {
   "cell_type": "markdown",
   "id": "8b71286d",
   "metadata": {},
   "source": [
    "#### a. Based on the theoretical distribution of Feature_1, how many samples do you expect to find where the value of the feature is greater than 3000?"
   ]
  },
  {
   "cell_type": "code",
   "execution_count": 5,
   "id": "dc9267eb",
   "metadata": {},
   "outputs": [
    {
     "name": "stdout",
     "output_type": "stream",
     "text": [
      "std_1 for feature 1 is 314.411.\n",
      "45\n"
     ]
    }
   ],
   "source": [
    "p = 0.83\n",
    "# find the value(q) corresponding to the desired percentile,\n",
    "# then using q to determine the standard deviation\n",
    "q = norm.ppf(p)\n",
    "std_1 = (2800 - (2200 + 2800) / 2) / q\n",
    "print(f'std_1 for feature 1 is {round(std_1, 3)}.')\n",
    "\n",
    "expected_3000 = (1 - norm.cdf(3000, 2500, std_1))*800\n",
    "print(round(expected_3000))"
   ]
  },
  {
   "cell_type": "markdown",
   "id": "88710644",
   "metadata": {},
   "source": [
    "#### b. How many samples did you actually find where Feature_1 is greater than 3000?"
   ]
  },
  {
   "cell_type": "code",
   "execution_count": 6,
   "id": "d07e9618",
   "metadata": {},
   "outputs": [
    {
     "name": "stdout",
     "output_type": "stream",
     "text": [
      "46\n"
     ]
    }
   ],
   "source": [
    "# actual_3000 = len(fake_data[fake_data['Feature_1'] > 3000])\n",
    "actual_3000 = sum([i > 3000 for i in fake_data['Feature_1']])\n",
    "print(round(actual_3000))"
   ]
  },
  {
   "cell_type": "markdown",
   "id": "c54a118c",
   "metadata": {},
   "source": [
    "#### c. Group the dataset by the Group field and compute the mean and standard deviation of Feature_3 within each group."
   ]
  },
  {
   "cell_type": "code",
   "execution_count": 7,
   "id": "2ce4ea7c",
   "metadata": {
    "scrolled": true
   },
   "outputs": [
    {
     "data": {
      "text/html": [
       "<div>\n",
       "<style scoped>\n",
       "    .dataframe tbody tr th:only-of-type {\n",
       "        vertical-align: middle;\n",
       "    }\n",
       "\n",
       "    .dataframe tbody tr th {\n",
       "        vertical-align: top;\n",
       "    }\n",
       "\n",
       "    .dataframe thead tr th {\n",
       "        text-align: left;\n",
       "    }\n",
       "</style>\n",
       "<table border=\"1\" class=\"dataframe\">\n",
       "  <thead>\n",
       "    <tr>\n",
       "      <th></th>\n",
       "      <th>Group</th>\n",
       "      <th colspan=\"2\" halign=\"left\">Feature_3</th>\n",
       "    </tr>\n",
       "    <tr>\n",
       "      <th></th>\n",
       "      <th></th>\n",
       "      <th>mean</th>\n",
       "      <th>std</th>\n",
       "    </tr>\n",
       "  </thead>\n",
       "  <tbody>\n",
       "    <tr>\n",
       "      <th>0</th>\n",
       "      <td>A</td>\n",
       "      <td>5497.747500</td>\n",
       "      <td>953.722464</td>\n",
       "    </tr>\n",
       "    <tr>\n",
       "      <th>1</th>\n",
       "      <td>B</td>\n",
       "      <td>5021.832917</td>\n",
       "      <td>610.860061</td>\n",
       "    </tr>\n",
       "    <tr>\n",
       "      <th>2</th>\n",
       "      <td>C</td>\n",
       "      <td>-2074.457267</td>\n",
       "      <td>297.403711</td>\n",
       "    </tr>\n",
       "  </tbody>\n",
       "</table>\n",
       "</div>"
      ],
      "text/plain": [
       "  Group    Feature_3            \n",
       "                mean         std\n",
       "0     A  5497.747500  953.722464\n",
       "1     B  5021.832917  610.860061\n",
       "2     C -2074.457267  297.403711"
      ]
     },
     "execution_count": 7,
     "metadata": {},
     "output_type": "execute_result"
    }
   ],
   "source": [
    "grouped_data = fake_data.groupby('Group').agg({'Feature_3': ['mean', 'std']}).reset_index()\n",
    "grouped_data"
   ]
  },
  {
   "cell_type": "code",
   "execution_count": 8,
   "id": "4eb8b4de",
   "metadata": {},
   "outputs": [
    {
     "name": "stdout",
     "output_type": "stream",
     "text": [
      "a. Expected Samples where Feature_1 > 3000: 45\n",
      "\n",
      "b. Actual Samples where Feature_1 > 3000: 46\n",
      "\n",
      "c. Grouped data:   Group    Feature_3            \n",
      "                mean         std\n",
      "0     A  5497.747500  953.722464\n",
      "1     B  5021.832917  610.860061\n",
      "2     C -2074.457267  297.403711\n"
     ]
    }
   ],
   "source": [
    "print(\"a. Expected Samples where Feature_1 > 3000:\", round(expected_3000))\n",
    "print(\"\\nb. Actual Samples where Feature_1 > 3000:\", round(actual_3000))\n",
    "print(\"\\nc. Grouped data:\", grouped_data)"
   ]
  },
  {
   "cell_type": "markdown",
   "id": "c06d16b3",
   "metadata": {},
   "source": [
    "### 3. Make a scatterplot of Feature_3 vs Feature_1"
   ]
  },
  {
   "cell_type": "code",
   "execution_count": 9,
   "id": "e38ca962",
   "metadata": {},
   "outputs": [
    {
     "data": {
      "image/png": "[encoded data removed]",
      "text/plain": [
       "<Figure size 800x500 with 1 Axes>"
      ]
     },
     "metadata": {},
     "output_type": "display_data"
    }
   ],
   "source": [
    "import seaborn as sns\n",
    "import matplotlib.pyplot as plt\n",
    "\n",
    "plt.figure(figsize=(8, 5))\n",
    "sns.scatterplot(x='Feature_1', y='Feature_3', data=fake_data, hue='Group', palette='viridis', alpha=0.7)\n",
    "plt.title('Scatterplot of Feature_3 vs Feature_1')\n",
    "plt.xlabel('Feature_1')\n",
    "plt.ylabel('Feature_3')\n",
    "plt.legend(title='Group', loc='upper left')\n",
    "\n",
    "plt.show()"
   ]
  },
  {
   "cell_type": "markdown",
   "id": "f8e6a3d2",
   "metadata": {},
   "source": [
    "### 4. Write your constructed dataframe/tibble to a csv file called fake_data.csv."
   ]
  },
  {
   "cell_type": "code",
   "execution_count": 10,
   "id": "0f4dcc12",
   "metadata": {},
   "outputs": [],
   "source": [
    "fake_data.to_csv('fake_data.csv', index=False)"
   ]
  }
 ],
 "metadata": {
  "kernelspec": {
   "display_name": "Python 3 (ipykernel)",
   "language": "python",
   "name": "python3"
  },
  "language_info": {
   "codemirror_mode": {
    "name": "ipython",
    "version": 3
   },
   "file_extension": ".py",
   "mimetype": "text/x-python",
   "name": "python",
   "nbconvert_exporter": "python",
   "pygments_lexer": "ipython3",
   "version": "3.11.3"
  }
 },
 "nbformat": 4,
 "nbformat_minor": 5
}
