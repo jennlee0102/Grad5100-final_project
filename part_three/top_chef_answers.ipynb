{
 "cells": [
  {
   "cell_type": "code",
   "execution_count": 3,
   "id": "2eee72c7",
   "metadata": {},
   "outputs": [],
   "source": [
    "import sqlalchemy as sqla\n",
    "import pymysql\n",
    "import pandas as pd"
   ]
  },
  {
   "cell_type": "code",
   "execution_count": 4,
   "id": "61ff86d4",
   "metadata": {},
   "outputs": [],
   "source": [
    "username = \"user\"\n",
    "password = \"grad5100user\"\n",
    "awsresource = \"database-1.cwvjklnp4wu3.us-east-1.rds.amazonaws.com\"\n",
    "port = 3306\n",
    "dbname = \"topChef\"\n",
    "dburi = f\"mysql+pymysql://{username}:{password}@{awsresource}:{port}/{dbname}\"\n",
    "engine = sqla.create_engine(dburi)\n",
    "\n",
    "def df_select(sql, engine):\n",
    "    \"send sql to database given by engine and return the result as a pandas dataframe\"\n",
    "    with engine.connect() as conn:\n",
    "        result = pd.read_sql(sqla.text(sql), con=conn)\n",
    "    print(f\"Retrieved {result.shape[0]} records\")\n",
    "    return result"
   ]
  },
  {
   "cell_type": "markdown",
   "id": "ceede864",
   "metadata": {},
   "source": [
    "#### 1. There are two types of top Chef programs; the ‘Masters’ programs and the regular series. The database contains information on both. We are not interested in the ‘Masters’. There is also a season called “Canada 6” which is part of the Masters series. Create versions of the chefdetails and judges tables that exclude any records coming from seasons that include the word Masters or Canada."
   ]
  },
  {
   "cell_type": "code",
   "execution_count": 5,
   "id": "a0975f62",
   "metadata": {},
   "outputs": [
    {
     "name": "stdout",
     "output_type": "stream",
     "text": [
      "Retrieved 5 records\n",
      "Masters programs check in chefdetails:\n",
      "             season\n",
      "0  Masters Season 1\n",
      "1  Masters Season 2\n",
      "2  Masters Season 3\n",
      "3  Masters Season 4\n",
      "4  Masters Season 5\n",
      "Retrieved 1 records\n",
      "\n",
      "Canada 6 check in chefdetails:\n",
      "     season\n",
      "0  Canada 6\n",
      "Retrieved 5 records\n",
      "\n",
      "Masters programs check in judges:\n",
      "             season\n",
      "0  Masters Season 1\n",
      "1  Masters Season 2\n",
      "2  Masters Season 3\n",
      "3  Masters Season 4\n",
      "4  Masters Season 5\n",
      "Retrieved 1 records\n",
      "\n",
      "Canada 6 check in judges:\n",
      "     season\n",
      "0  Canada 6\n"
     ]
    }
   ],
   "source": [
    "# 'Masters' programs in chefdetails\n",
    "masters_q_cd = \"SELECT DISTINCT season FROM chefdetails WHERE season LIKE '%Masters%';\"\n",
    "masters_result_cd = df_select(masters_q_cd, engine)\n",
    "print(\"Masters programs check in chefdetails:\")\n",
    "print(masters_result_cd)\n",
    "\n",
    "# 'Canada 6' in chefdetails\n",
    "canada_6_q_cd = \"SELECT DISTINCT season FROM chefdetails WHERE season LIKE '%Canada%';\"\n",
    "canada_6_result_cd = df_select(canada_6_q_cd, engine)\n",
    "print(\"\\nCanada 6 check in chefdetails:\")\n",
    "print(canada_6_result_cd)\n",
    "\n",
    "# 'Masters' programs in judges\n",
    "masters_q_j = \"SELECT DISTINCT season FROM judges WHERE season LIKE '%Masters%';\"\n",
    "masters_result_judges = df_select(masters_q_j, engine)\n",
    "print(\"\\nMasters programs check in judges:\")\n",
    "print(masters_result_judges)\n",
    "\n",
    "# 'Canada 6' in judges\n",
    "canada_6_q_j = \"SELECT DISTINCT season FROM judges WHERE season LIKE '%Canada%';\"\n",
    "canada_6_result_j = df_select(canada_6_q_j, engine)\n",
    "print(\"\\nCanada 6 check in judges:\")\n",
    "print(canada_6_result_j)"
   ]
  },
  {
   "cell_type": "code",
   "execution_count": 6,
   "id": "ef8f5481",
   "metadata": {
    "scrolled": true
   },
   "outputs": [
    {
     "name": "stdout",
     "output_type": "stream",
     "text": [
      "Retrieved 322 records\n",
      "Retrieved 633 records\n"
     ]
    },
    {
     "data": {
      "text/html": [
       "<div>\n",
       "<style scoped>\n",
       "    .dataframe tbody tr th:only-of-type {\n",
       "        vertical-align: middle;\n",
       "    }\n",
       "\n",
       "    .dataframe tbody tr th {\n",
       "        vertical-align: top;\n",
       "    }\n",
       "\n",
       "    .dataframe thead th {\n",
       "        text-align: right;\n",
       "    }\n",
       "</style>\n",
       "<table border=\"1\" class=\"dataframe\">\n",
       "  <thead>\n",
       "    <tr style=\"text-align: right;\">\n",
       "      <th></th>\n",
       "      <th>num</th>\n",
       "      <th>name</th>\n",
       "      <th>chef</th>\n",
       "      <th>hometown</th>\n",
       "      <th>city</th>\n",
       "      <th>state</th>\n",
       "      <th>age</th>\n",
       "      <th>season</th>\n",
       "      <th>seasonNumber</th>\n",
       "      <th>series</th>\n",
       "      <th>placement</th>\n",
       "      <th>personOfColor</th>\n",
       "      <th>occupation</th>\n",
       "      <th>gender</th>\n",
       "    </tr>\n",
       "  </thead>\n",
       "  <tbody>\n",
       "    <tr>\n",
       "      <th>0</th>\n",
       "      <td>0</td>\n",
       "      <td>Richard Blais</td>\n",
       "      <td>Richard B.</td>\n",
       "      <td>None</td>\n",
       "      <td>None</td>\n",
       "      <td>None</td>\n",
       "      <td>38.0</td>\n",
       "      <td>All Stars: New York</td>\n",
       "      <td>8</td>\n",
       "      <td>US</td>\n",
       "      <td>1</td>\n",
       "      <td>None</td>\n",
       "      <td>Owner</td>\n",
       "      <td>Male</td>\n",
       "    </tr>\n",
       "    <tr>\n",
       "      <th>1</th>\n",
       "      <td>1</td>\n",
       "      <td>Mike Isabella</td>\n",
       "      <td>Mike I.</td>\n",
       "      <td>None</td>\n",
       "      <td>None</td>\n",
       "      <td>None</td>\n",
       "      <td>35.0</td>\n",
       "      <td>All Stars: New York</td>\n",
       "      <td>8</td>\n",
       "      <td>US</td>\n",
       "      <td>2</td>\n",
       "      <td>None</td>\n",
       "      <td>Executive Chef/Owner</td>\n",
       "      <td>Male</td>\n",
       "    </tr>\n",
       "    <tr>\n",
       "      <th>2</th>\n",
       "      <td>2</td>\n",
       "      <td>Antonia Lofaso</td>\n",
       "      <td>Antonia L.</td>\n",
       "      <td>None</td>\n",
       "      <td>None</td>\n",
       "      <td>None</td>\n",
       "      <td>34.0</td>\n",
       "      <td>All Stars: New York</td>\n",
       "      <td>8</td>\n",
       "      <td>US</td>\n",
       "      <td>3</td>\n",
       "      <td>None</td>\n",
       "      <td>Executive Chef</td>\n",
       "      <td>Female</td>\n",
       "    </tr>\n",
       "    <tr>\n",
       "      <th>3</th>\n",
       "      <td>3</td>\n",
       "      <td>Tiffany Derry</td>\n",
       "      <td>Tiffany D.</td>\n",
       "      <td>None</td>\n",
       "      <td>None</td>\n",
       "      <td>None</td>\n",
       "      <td>27.0</td>\n",
       "      <td>All Stars: New York</td>\n",
       "      <td>8</td>\n",
       "      <td>US</td>\n",
       "      <td>4</td>\n",
       "      <td>POC</td>\n",
       "      <td>Executive Chef</td>\n",
       "      <td>Female</td>\n",
       "    </tr>\n",
       "    <tr>\n",
       "      <th>4</th>\n",
       "      <td>4</td>\n",
       "      <td>Carla Hall</td>\n",
       "      <td>Carla H.</td>\n",
       "      <td>None</td>\n",
       "      <td>None</td>\n",
       "      <td>None</td>\n",
       "      <td>46.0</td>\n",
       "      <td>All Stars: New York</td>\n",
       "      <td>8</td>\n",
       "      <td>US</td>\n",
       "      <td>5</td>\n",
       "      <td>POC</td>\n",
       "      <td>Chef/Owner</td>\n",
       "      <td>Female</td>\n",
       "    </tr>\n",
       "  </tbody>\n",
       "</table>\n",
       "</div>"
      ],
      "text/plain": [
       "   num            name        chef hometown  city state   age  \\\n",
       "0    0   Richard Blais  Richard B.     None  None  None  38.0   \n",
       "1    1   Mike Isabella     Mike I.     None  None  None  35.0   \n",
       "2    2  Antonia Lofaso  Antonia L.     None  None  None  34.0   \n",
       "3    3   Tiffany Derry  Tiffany D.     None  None  None  27.0   \n",
       "4    4      Carla Hall    Carla H.     None  None  None  46.0   \n",
       "\n",
       "                season  seasonNumber series  placement personOfColor  \\\n",
       "0  All Stars: New York             8     US          1          None   \n",
       "1  All Stars: New York             8     US          2          None   \n",
       "2  All Stars: New York             8     US          3          None   \n",
       "3  All Stars: New York             8     US          4           POC   \n",
       "4  All Stars: New York             8     US          5           POC   \n",
       "\n",
       "             occupation  gender  \n",
       "0                 Owner    Male  \n",
       "1  Executive Chef/Owner    Male  \n",
       "2        Executive Chef  Female  \n",
       "3        Executive Chef  Female  \n",
       "4            Chef/Owner  Female  "
      ]
     },
     "metadata": {},
     "output_type": "display_data"
    },
    {
     "data": {
      "text/html": [
       "<div>\n",
       "<style scoped>\n",
       "    .dataframe tbody tr th:only-of-type {\n",
       "        vertical-align: middle;\n",
       "    }\n",
       "\n",
       "    .dataframe tbody tr th {\n",
       "        vertical-align: top;\n",
       "    }\n",
       "\n",
       "    .dataframe thead th {\n",
       "        text-align: right;\n",
       "    }\n",
       "</style>\n",
       "<table border=\"1\" class=\"dataframe\">\n",
       "  <thead>\n",
       "    <tr style=\"text-align: right;\">\n",
       "      <th></th>\n",
       "      <th>num</th>\n",
       "      <th>season</th>\n",
       "      <th>seasonNumber</th>\n",
       "      <th>series</th>\n",
       "      <th>episode</th>\n",
       "      <th>challengeType</th>\n",
       "      <th>outcomeType</th>\n",
       "      <th>guestJudge</th>\n",
       "      <th>competedOnTC</th>\n",
       "      <th>otherShows</th>\n",
       "    </tr>\n",
       "  </thead>\n",
       "  <tbody>\n",
       "    <tr>\n",
       "      <th>0</th>\n",
       "      <td>0</td>\n",
       "      <td>All Stars: New York</td>\n",
       "      <td>8</td>\n",
       "      <td>US</td>\n",
       "      <td>1</td>\n",
       "      <td>Quickfire</td>\n",
       "      <td>Team</td>\n",
       "      <td>Tom Colicchio</td>\n",
       "      <td>None</td>\n",
       "      <td>Top Chef Judge</td>\n",
       "    </tr>\n",
       "    <tr>\n",
       "      <th>1</th>\n",
       "      <td>1</td>\n",
       "      <td>All Stars: New York</td>\n",
       "      <td>8</td>\n",
       "      <td>US</td>\n",
       "      <td>1</td>\n",
       "      <td>Elimination</td>\n",
       "      <td>Individual</td>\n",
       "      <td>Anthony Bourdain</td>\n",
       "      <td>None</td>\n",
       "      <td>Parts Unknown; No Reservations</td>\n",
       "    </tr>\n",
       "    <tr>\n",
       "      <th>2</th>\n",
       "      <td>2</td>\n",
       "      <td>All Stars: New York</td>\n",
       "      <td>8</td>\n",
       "      <td>US</td>\n",
       "      <td>2</td>\n",
       "      <td>Quickfire</td>\n",
       "      <td>Individual</td>\n",
       "      <td>Joe Jonas</td>\n",
       "      <td>None</td>\n",
       "      <td>None</td>\n",
       "    </tr>\n",
       "    <tr>\n",
       "      <th>3</th>\n",
       "      <td>3</td>\n",
       "      <td>All Stars: New York</td>\n",
       "      <td>8</td>\n",
       "      <td>US</td>\n",
       "      <td>2</td>\n",
       "      <td>Elimination</td>\n",
       "      <td>Team</td>\n",
       "      <td>Katie Lee</td>\n",
       "      <td>None</td>\n",
       "      <td>Beat Bobby Flay Judge</td>\n",
       "    </tr>\n",
       "    <tr>\n",
       "      <th>4</th>\n",
       "      <td>4</td>\n",
       "      <td>All Stars: New York</td>\n",
       "      <td>8</td>\n",
       "      <td>US</td>\n",
       "      <td>3</td>\n",
       "      <td>Quickfire</td>\n",
       "      <td>Team</td>\n",
       "      <td>David Chang</td>\n",
       "      <td>None</td>\n",
       "      <td>None</td>\n",
       "    </tr>\n",
       "  </tbody>\n",
       "</table>\n",
       "</div>"
      ],
      "text/plain": [
       "   num               season  seasonNumber series  episode challengeType  \\\n",
       "0    0  All Stars: New York             8     US        1     Quickfire   \n",
       "1    1  All Stars: New York             8     US        1   Elimination   \n",
       "2    2  All Stars: New York             8     US        2     Quickfire   \n",
       "3    3  All Stars: New York             8     US        2   Elimination   \n",
       "4    4  All Stars: New York             8     US        3     Quickfire   \n",
       "\n",
       "  outcomeType        guestJudge competedOnTC                      otherShows  \n",
       "0        Team     Tom Colicchio         None                  Top Chef Judge  \n",
       "1  Individual  Anthony Bourdain         None  Parts Unknown; No Reservations  \n",
       "2  Individual         Joe Jonas         None                            None  \n",
       "3        Team         Katie Lee         None           Beat Bobby Flay Judge  \n",
       "4        Team       David Chang         None                            None  "
      ]
     },
     "metadata": {},
     "output_type": "display_data"
    }
   ],
   "source": [
    "# Create a version of the chefdetails table that excludes records from seasons with the words 'Masters' or 'Canada'\n",
    "chefdetails_q = \"\"\"SELECT * FROM chefdetails \n",
    "WHERE season NOT LIKE '%Masters%' AND season NOT LIKE '%Canada%';\"\"\"\n",
    "\n",
    "chefdetails = df_select(chefdetails_q, engine)\n",
    "\n",
    "# Create a version of the judges table that excludes records from seasons with the words 'Masters' or 'Canada'\n",
    "judges_q = \"\"\"SELECT * FROM judges \n",
    "WHERE season NOT LIKE '%Masters%' AND season NOT LIKE '%Canada%';\"\"\"\n",
    "\n",
    "judges = df_select(judges_q, engine)\n",
    "\n",
    "display(chefdetails.head(), judges.head())"
   ]
  },
  {
   "cell_type": "code",
   "execution_count": 7,
   "id": "1d9fec53",
   "metadata": {},
   "outputs": [
    {
     "name": "stdout",
     "output_type": "stream",
     "text": [
      "<class 'pandas.core.frame.DataFrame'>\n",
      "RangeIndex: 322 entries, 0 to 321\n",
      "Data columns (total 14 columns):\n",
      " #   Column         Non-Null Count  Dtype  \n",
      "---  ------         --------------  -----  \n",
      " 0   num            322 non-null    int64  \n",
      " 1   name           322 non-null    object \n",
      " 2   chef           322 non-null    object \n",
      " 3   hometown       200 non-null    object \n",
      " 4   city           303 non-null    object \n",
      " 5   state          304 non-null    object \n",
      " 6   age            219 non-null    float64\n",
      " 7   season         322 non-null    object \n",
      " 8   seasonNumber   322 non-null    int64  \n",
      " 9   series         322 non-null    object \n",
      " 10  placement      322 non-null    int64  \n",
      " 11  personOfColor  122 non-null    object \n",
      " 12  occupation     183 non-null    object \n",
      " 13  gender         322 non-null    object \n",
      "dtypes: float64(1), int64(3), object(10)\n",
      "memory usage: 35.3+ KB\n",
      "<class 'pandas.core.frame.DataFrame'>\n",
      "RangeIndex: 633 entries, 0 to 632\n",
      "Data columns (total 10 columns):\n",
      " #   Column         Non-Null Count  Dtype \n",
      "---  ------         --------------  ----- \n",
      " 0   num            633 non-null    int64 \n",
      " 1   season         633 non-null    object\n",
      " 2   seasonNumber   633 non-null    int64 \n",
      " 3   series         633 non-null    object\n",
      " 4   episode        633 non-null    int64 \n",
      " 5   challengeType  633 non-null    object\n",
      " 6   outcomeType    633 non-null    object\n",
      " 7   guestJudge     633 non-null    object\n",
      " 8   competedOnTC   80 non-null     object\n",
      " 9   otherShows     233 non-null    object\n",
      "dtypes: int64(3), object(7)\n",
      "memory usage: 49.6+ KB\n"
     ]
    },
    {
     "data": {
      "text/plain": [
       "None"
      ]
     },
     "metadata": {},
     "output_type": "display_data"
    },
    {
     "data": {
      "text/plain": [
       "None"
      ]
     },
     "metadata": {},
     "output_type": "display_data"
    }
   ],
   "source": [
    "display(chefdetails.info(), judges.info())"
   ]
  },
  {
   "cell_type": "markdown",
   "id": "51adddbe",
   "metadata": {},
   "source": [
    "Of particular interest in the chefdetails table are the fields:\n",
    "- **season** which is the name of the season (often a city where the competition took place, but not always)\n",
    "- **seasonNumber** which is the number of the season\n",
    "- **name** which is the chef’s name\n",
    "- **placement** which tells where the chef finished in the competition\n",
    "- **gender** which tells the chef’s gender.\n",
    "\n",
    "In the judges table we are interested in:\n",
    "- **season** and **seasonNumber** which are the same as in the chefdetails table.\n",
    "- **episode** which gives the episode where the judge appeared; the show uses many guest judges varying episode by episode.\n",
    "- **challengeType** describes the type of challenge where the judge played a role.\n",
    "- **guestJudge** is the judge’s name\n",
    "- **competedOnTC** is ‘Yes’ if the judge was a previous top chef contestant.\n",
    "\n",
    "\n",
    "### 2. Further trim your chefdetails and judges tables by including only the columns of interest from the table descriptions above."
   ]
  },
  {
   "cell_type": "code",
   "execution_count": 8,
   "id": "c94bbe5c",
   "metadata": {},
   "outputs": [
    {
     "name": "stdout",
     "output_type": "stream",
     "text": [
      "Retrieved 322 records\n",
      "<class 'pandas.core.frame.DataFrame'>\n",
      "RangeIndex: 322 entries, 0 to 321\n",
      "Data columns (total 5 columns):\n",
      " #   Column        Non-Null Count  Dtype \n",
      "---  ------        --------------  ----- \n",
      " 0   season        322 non-null    object\n",
      " 1   seasonNumber  322 non-null    int64 \n",
      " 2   name          322 non-null    object\n",
      " 3   placement     322 non-null    int64 \n",
      " 4   gender        322 non-null    object\n",
      "dtypes: int64(2), object(3)\n",
      "memory usage: 12.7+ KB\n"
     ]
    },
    {
     "data": {
      "text/plain": [
       "None"
      ]
     },
     "metadata": {},
     "output_type": "display_data"
    },
    {
     "data": {
      "text/html": [
       "<div>\n",
       "<style scoped>\n",
       "    .dataframe tbody tr th:only-of-type {\n",
       "        vertical-align: middle;\n",
       "    }\n",
       "\n",
       "    .dataframe tbody tr th {\n",
       "        vertical-align: top;\n",
       "    }\n",
       "\n",
       "    .dataframe thead th {\n",
       "        text-align: right;\n",
       "    }\n",
       "</style>\n",
       "<table border=\"1\" class=\"dataframe\">\n",
       "  <thead>\n",
       "    <tr style=\"text-align: right;\">\n",
       "      <th></th>\n",
       "      <th>season</th>\n",
       "      <th>seasonNumber</th>\n",
       "      <th>name</th>\n",
       "      <th>placement</th>\n",
       "      <th>gender</th>\n",
       "    </tr>\n",
       "  </thead>\n",
       "  <tbody>\n",
       "    <tr>\n",
       "      <th>0</th>\n",
       "      <td>All Stars: New York</td>\n",
       "      <td>8</td>\n",
       "      <td>Richard Blais</td>\n",
       "      <td>1</td>\n",
       "      <td>Male</td>\n",
       "    </tr>\n",
       "    <tr>\n",
       "      <th>1</th>\n",
       "      <td>All Stars: New York</td>\n",
       "      <td>8</td>\n",
       "      <td>Mike Isabella</td>\n",
       "      <td>2</td>\n",
       "      <td>Male</td>\n",
       "    </tr>\n",
       "    <tr>\n",
       "      <th>2</th>\n",
       "      <td>All Stars: New York</td>\n",
       "      <td>8</td>\n",
       "      <td>Antonia Lofaso</td>\n",
       "      <td>3</td>\n",
       "      <td>Female</td>\n",
       "    </tr>\n",
       "    <tr>\n",
       "      <th>3</th>\n",
       "      <td>All Stars: New York</td>\n",
       "      <td>8</td>\n",
       "      <td>Tiffany Derry</td>\n",
       "      <td>4</td>\n",
       "      <td>Female</td>\n",
       "    </tr>\n",
       "    <tr>\n",
       "      <th>4</th>\n",
       "      <td>All Stars: New York</td>\n",
       "      <td>8</td>\n",
       "      <td>Carla Hall</td>\n",
       "      <td>5</td>\n",
       "      <td>Female</td>\n",
       "    </tr>\n",
       "  </tbody>\n",
       "</table>\n",
       "</div>"
      ],
      "text/plain": [
       "                season  seasonNumber            name  placement  gender\n",
       "0  All Stars: New York             8   Richard Blais          1    Male\n",
       "1  All Stars: New York             8   Mike Isabella          2    Male\n",
       "2  All Stars: New York             8  Antonia Lofaso          3  Female\n",
       "3  All Stars: New York             8   Tiffany Derry          4  Female\n",
       "4  All Stars: New York             8      Carla Hall          5  Female"
      ]
     },
     "metadata": {},
     "output_type": "display_data"
    }
   ],
   "source": [
    "chefdetails_q = \"\"\"\n",
    "    SELECT season, seasonNumber, name, placement, gender\n",
    "    FROM chefdetails\n",
    "    WHERE season NOT LIKE '%Masters%' AND season NOT LIKE '%Canada%';\n",
    "\"\"\"\n",
    "chefdetails = df_select(chefdetails_q, engine)\n",
    "display(chefdetails.info(), chefdetails.head())"
   ]
  },
  {
   "cell_type": "code",
   "execution_count": 9,
   "id": "918bd599",
   "metadata": {},
   "outputs": [
    {
     "name": "stdout",
     "output_type": "stream",
     "text": [
      "Retrieved 633 records\n",
      "<class 'pandas.core.frame.DataFrame'>\n",
      "RangeIndex: 633 entries, 0 to 632\n",
      "Data columns (total 6 columns):\n",
      " #   Column         Non-Null Count  Dtype \n",
      "---  ------         --------------  ----- \n",
      " 0   season         633 non-null    object\n",
      " 1   seasonNumber   633 non-null    int64 \n",
      " 2   episode        633 non-null    int64 \n",
      " 3   challengeType  633 non-null    object\n",
      " 4   guestJudge     633 non-null    object\n",
      " 5   competedOnTC   80 non-null     object\n",
      "dtypes: int64(2), object(4)\n",
      "memory usage: 29.8+ KB\n"
     ]
    },
    {
     "data": {
      "text/plain": [
       "None"
      ]
     },
     "metadata": {},
     "output_type": "display_data"
    },
    {
     "data": {
      "text/html": [
       "<div>\n",
       "<style scoped>\n",
       "    .dataframe tbody tr th:only-of-type {\n",
       "        vertical-align: middle;\n",
       "    }\n",
       "\n",
       "    .dataframe tbody tr th {\n",
       "        vertical-align: top;\n",
       "    }\n",
       "\n",
       "    .dataframe thead th {\n",
       "        text-align: right;\n",
       "    }\n",
       "</style>\n",
       "<table border=\"1\" class=\"dataframe\">\n",
       "  <thead>\n",
       "    <tr style=\"text-align: right;\">\n",
       "      <th></th>\n",
       "      <th>season</th>\n",
       "      <th>seasonNumber</th>\n",
       "      <th>episode</th>\n",
       "      <th>challengeType</th>\n",
       "      <th>guestJudge</th>\n",
       "      <th>competedOnTC</th>\n",
       "    </tr>\n",
       "  </thead>\n",
       "  <tbody>\n",
       "    <tr>\n",
       "      <th>0</th>\n",
       "      <td>All Stars: New York</td>\n",
       "      <td>8</td>\n",
       "      <td>1</td>\n",
       "      <td>Quickfire</td>\n",
       "      <td>Tom Colicchio</td>\n",
       "      <td>None</td>\n",
       "    </tr>\n",
       "    <tr>\n",
       "      <th>1</th>\n",
       "      <td>All Stars: New York</td>\n",
       "      <td>8</td>\n",
       "      <td>1</td>\n",
       "      <td>Elimination</td>\n",
       "      <td>Anthony Bourdain</td>\n",
       "      <td>None</td>\n",
       "    </tr>\n",
       "    <tr>\n",
       "      <th>2</th>\n",
       "      <td>All Stars: New York</td>\n",
       "      <td>8</td>\n",
       "      <td>2</td>\n",
       "      <td>Quickfire</td>\n",
       "      <td>Joe Jonas</td>\n",
       "      <td>None</td>\n",
       "    </tr>\n",
       "    <tr>\n",
       "      <th>3</th>\n",
       "      <td>All Stars: New York</td>\n",
       "      <td>8</td>\n",
       "      <td>2</td>\n",
       "      <td>Elimination</td>\n",
       "      <td>Katie Lee</td>\n",
       "      <td>None</td>\n",
       "    </tr>\n",
       "    <tr>\n",
       "      <th>4</th>\n",
       "      <td>All Stars: New York</td>\n",
       "      <td>8</td>\n",
       "      <td>3</td>\n",
       "      <td>Quickfire</td>\n",
       "      <td>David Chang</td>\n",
       "      <td>None</td>\n",
       "    </tr>\n",
       "  </tbody>\n",
       "</table>\n",
       "</div>"
      ],
      "text/plain": [
       "                season  seasonNumber  episode challengeType        guestJudge  \\\n",
       "0  All Stars: New York             8        1     Quickfire     Tom Colicchio   \n",
       "1  All Stars: New York             8        1   Elimination  Anthony Bourdain   \n",
       "2  All Stars: New York             8        2     Quickfire         Joe Jonas   \n",
       "3  All Stars: New York             8        2   Elimination         Katie Lee   \n",
       "4  All Stars: New York             8        3     Quickfire       David Chang   \n",
       "\n",
       "  competedOnTC  \n",
       "0         None  \n",
       "1         None  \n",
       "2         None  \n",
       "3         None  \n",
       "4         None  "
      ]
     },
     "metadata": {},
     "output_type": "display_data"
    }
   ],
   "source": [
    "judges_q2 = \"\"\"\n",
    "    SELECT season, seasonNumber, episode, challengeType, guestJudge, competedOnTC\n",
    "    FROM judges\n",
    "    WHERE season NOT LIKE '%Masters%' AND season NOT LIKE '%Canada%';\n",
    "\"\"\"\n",
    "judges = df_select(judges_q2, engine)\n",
    "display(judges.info(), judges.head())"
   ]
  },
  {
   "cell_type": "markdown",
   "id": "9bc91146",
   "metadata": {},
   "source": [
    "### 3. Your tables should have information from 20 remaining different seasons, numbered from 1 to 20. Make a table that has two columns, one called season and one called seasonNumber showing the number associated with each season. (For example, San Francisco is season 1.)"
   ]
  },
  {
   "cell_type": "code",
   "execution_count": 10,
   "id": "f38b710a",
   "metadata": {},
   "outputs": [
    {
     "data": {
      "text/html": [
       "<div>\n",
       "<style scoped>\n",
       "    .dataframe tbody tr th:only-of-type {\n",
       "        vertical-align: middle;\n",
       "    }\n",
       "\n",
       "    .dataframe tbody tr th {\n",
       "        vertical-align: top;\n",
       "    }\n",
       "\n",
       "    .dataframe thead th {\n",
       "        text-align: right;\n",
       "    }\n",
       "</style>\n",
       "<table border=\"1\" class=\"dataframe\">\n",
       "  <thead>\n",
       "    <tr style=\"text-align: right;\">\n",
       "      <th></th>\n",
       "      <th>season</th>\n",
       "      <th>seasonNumber</th>\n",
       "      <th>name</th>\n",
       "      <th>placement</th>\n",
       "      <th>gender</th>\n",
       "    </tr>\n",
       "  </thead>\n",
       "  <tbody>\n",
       "    <tr>\n",
       "      <th>0</th>\n",
       "      <td>All Stars: New York</td>\n",
       "      <td>8</td>\n",
       "      <td>Richard Blais</td>\n",
       "      <td>1</td>\n",
       "      <td>Male</td>\n",
       "    </tr>\n",
       "    <tr>\n",
       "      <th>1</th>\n",
       "      <td>All Stars: New York</td>\n",
       "      <td>8</td>\n",
       "      <td>Mike Isabella</td>\n",
       "      <td>2</td>\n",
       "      <td>Male</td>\n",
       "    </tr>\n",
       "    <tr>\n",
       "      <th>2</th>\n",
       "      <td>All Stars: New York</td>\n",
       "      <td>8</td>\n",
       "      <td>Antonia Lofaso</td>\n",
       "      <td>3</td>\n",
       "      <td>Female</td>\n",
       "    </tr>\n",
       "    <tr>\n",
       "      <th>3</th>\n",
       "      <td>All Stars: New York</td>\n",
       "      <td>8</td>\n",
       "      <td>Tiffany Derry</td>\n",
       "      <td>4</td>\n",
       "      <td>Female</td>\n",
       "    </tr>\n",
       "    <tr>\n",
       "      <th>4</th>\n",
       "      <td>All Stars: New York</td>\n",
       "      <td>8</td>\n",
       "      <td>Carla Hall</td>\n",
       "      <td>5</td>\n",
       "      <td>Female</td>\n",
       "    </tr>\n",
       "  </tbody>\n",
       "</table>\n",
       "</div>"
      ],
      "text/plain": [
       "                season  seasonNumber            name  placement  gender\n",
       "0  All Stars: New York             8   Richard Blais          1    Male\n",
       "1  All Stars: New York             8   Mike Isabella          2    Male\n",
       "2  All Stars: New York             8  Antonia Lofaso          3  Female\n",
       "3  All Stars: New York             8   Tiffany Derry          4  Female\n",
       "4  All Stars: New York             8      Carla Hall          5  Female"
      ]
     },
     "metadata": {},
     "output_type": "display_data"
    },
    {
     "data": {
      "text/html": [
       "<div>\n",
       "<style scoped>\n",
       "    .dataframe tbody tr th:only-of-type {\n",
       "        vertical-align: middle;\n",
       "    }\n",
       "\n",
       "    .dataframe tbody tr th {\n",
       "        vertical-align: top;\n",
       "    }\n",
       "\n",
       "    .dataframe thead th {\n",
       "        text-align: right;\n",
       "    }\n",
       "</style>\n",
       "<table border=\"1\" class=\"dataframe\">\n",
       "  <thead>\n",
       "    <tr style=\"text-align: right;\">\n",
       "      <th></th>\n",
       "      <th>season</th>\n",
       "      <th>seasonNumber</th>\n",
       "      <th>episode</th>\n",
       "      <th>challengeType</th>\n",
       "      <th>guestJudge</th>\n",
       "      <th>competedOnTC</th>\n",
       "    </tr>\n",
       "  </thead>\n",
       "  <tbody>\n",
       "    <tr>\n",
       "      <th>0</th>\n",
       "      <td>All Stars: New York</td>\n",
       "      <td>8</td>\n",
       "      <td>1</td>\n",
       "      <td>Quickfire</td>\n",
       "      <td>Tom Colicchio</td>\n",
       "      <td>None</td>\n",
       "    </tr>\n",
       "    <tr>\n",
       "      <th>1</th>\n",
       "      <td>All Stars: New York</td>\n",
       "      <td>8</td>\n",
       "      <td>1</td>\n",
       "      <td>Elimination</td>\n",
       "      <td>Anthony Bourdain</td>\n",
       "      <td>None</td>\n",
       "    </tr>\n",
       "    <tr>\n",
       "      <th>2</th>\n",
       "      <td>All Stars: New York</td>\n",
       "      <td>8</td>\n",
       "      <td>2</td>\n",
       "      <td>Quickfire</td>\n",
       "      <td>Joe Jonas</td>\n",
       "      <td>None</td>\n",
       "    </tr>\n",
       "    <tr>\n",
       "      <th>3</th>\n",
       "      <td>All Stars: New York</td>\n",
       "      <td>8</td>\n",
       "      <td>2</td>\n",
       "      <td>Elimination</td>\n",
       "      <td>Katie Lee</td>\n",
       "      <td>None</td>\n",
       "    </tr>\n",
       "    <tr>\n",
       "      <th>4</th>\n",
       "      <td>All Stars: New York</td>\n",
       "      <td>8</td>\n",
       "      <td>3</td>\n",
       "      <td>Quickfire</td>\n",
       "      <td>David Chang</td>\n",
       "      <td>None</td>\n",
       "    </tr>\n",
       "  </tbody>\n",
       "</table>\n",
       "</div>"
      ],
      "text/plain": [
       "                season  seasonNumber  episode challengeType        guestJudge  \\\n",
       "0  All Stars: New York             8        1     Quickfire     Tom Colicchio   \n",
       "1  All Stars: New York             8        1   Elimination  Anthony Bourdain   \n",
       "2  All Stars: New York             8        2     Quickfire         Joe Jonas   \n",
       "3  All Stars: New York             8        2   Elimination         Katie Lee   \n",
       "4  All Stars: New York             8        3     Quickfire       David Chang   \n",
       "\n",
       "  competedOnTC  \n",
       "0         None  \n",
       "1         None  \n",
       "2         None  \n",
       "3         None  \n",
       "4         None  "
      ]
     },
     "metadata": {},
     "output_type": "display_data"
    }
   ],
   "source": [
    "display(chefdetails.head(), judges.head())"
   ]
  },
  {
   "cell_type": "code",
   "execution_count": 11,
   "id": "0a73f6ac",
   "metadata": {},
   "outputs": [
    {
     "name": "stdout",
     "output_type": "stream",
     "text": [
      "<class 'pandas.core.frame.DataFrame'>\n",
      "RangeIndex: 322 entries, 0 to 321\n",
      "Data columns (total 5 columns):\n",
      " #   Column        Non-Null Count  Dtype \n",
      "---  ------        --------------  ----- \n",
      " 0   season        322 non-null    object\n",
      " 1   seasonNumber  322 non-null    int64 \n",
      " 2   name          322 non-null    object\n",
      " 3   placement     322 non-null    int64 \n",
      " 4   gender        322 non-null    object\n",
      "dtypes: int64(2), object(3)\n",
      "memory usage: 12.7+ KB\n",
      "<class 'pandas.core.frame.DataFrame'>\n",
      "RangeIndex: 633 entries, 0 to 632\n",
      "Data columns (total 6 columns):\n",
      " #   Column         Non-Null Count  Dtype \n",
      "---  ------         --------------  ----- \n",
      " 0   season         633 non-null    object\n",
      " 1   seasonNumber   633 non-null    int64 \n",
      " 2   episode        633 non-null    int64 \n",
      " 3   challengeType  633 non-null    object\n",
      " 4   guestJudge     633 non-null    object\n",
      " 5   competedOnTC   80 non-null     object\n",
      "dtypes: int64(2), object(4)\n",
      "memory usage: 29.8+ KB\n"
     ]
    },
    {
     "data": {
      "text/plain": [
       "None"
      ]
     },
     "metadata": {},
     "output_type": "display_data"
    },
    {
     "data": {
      "text/plain": [
       "None"
      ]
     },
     "metadata": {},
     "output_type": "display_data"
    }
   ],
   "source": [
    "display(chefdetails.info(), judges.info())"
   ]
  },
  {
   "cell_type": "code",
   "execution_count": 12,
   "id": "c9d7072d",
   "metadata": {},
   "outputs": [
    {
     "name": "stdout",
     "output_type": "stream",
     "text": [
      "                 season  seasonNumber\n",
      "16        San Francisco             1\n",
      "11          Los Angeles             2\n",
      "12                Miami             3\n",
      "5               Chicago             4\n",
      "14             New York             5\n",
      "10            Las Vegas             6\n",
      "6                  D.C.             7\n",
      "0   All Stars: New York             8\n",
      "18                Texas             9\n",
      "17              Seattle            10\n",
      "13          New Orleans            11\n",
      "2                Boston            12\n",
      "3            California            13\n",
      "4            Charleston            14\n",
      "7              Colorado            15\n",
      "9              Kentucky            16\n",
      "1        All-Stars L.A.            17\n",
      "15             Portland            18\n",
      "8               Houston            19\n",
      "19      World All Stars            20\n"
     ]
    }
   ],
   "source": [
    "seasons_table = chefdetails[['season', 'seasonNumber']].drop_duplicates()\n",
    "seasons_table.reset_index(drop=True, inplace=True)\n",
    "seasons_table.sort_values(by='seasonNumber', inplace=True)\n",
    "print(seasons_table)"
   ]
  },
  {
   "cell_type": "markdown",
   "id": "c673edae",
   "metadata": {},
   "source": [
    "### 4. Answer the following questions using your tables so far. <br/>\n",
    "#### a. Among all chef contestants, how many are male and how many are female?"
   ]
  },
  {
   "cell_type": "code",
   "execution_count": 13,
   "id": "3738bbb7",
   "metadata": {},
   "outputs": [
    {
     "data": {
      "text/plain": [
       "(322, 5)"
      ]
     },
     "execution_count": 13,
     "metadata": {},
     "output_type": "execute_result"
    }
   ],
   "source": [
    "chefdetails.shape"
   ]
  },
  {
   "cell_type": "code",
   "execution_count": 14,
   "id": "05fc9a39",
   "metadata": {
    "scrolled": true
   },
   "outputs": [
    {
     "name": "stdout",
     "output_type": "stream",
     "text": [
      "(50, 5)\n",
      "(272, 5)\n"
     ]
    }
   ],
   "source": [
    "# drop duplicates for a - c\n",
    "chefdetails_dup = chefdetails[chefdetails[['name','gender']].duplicated() == True]\n",
    "print(chefdetails_dup.shape)\n",
    "\n",
    "\n",
    "chefdetails_drop = chefdetails.drop_duplicates(subset=['name', 'gender'])\n",
    "print(chefdetails_drop.shape)"
   ]
  },
  {
   "cell_type": "code",
   "execution_count": 15,
   "id": "67245d9b",
   "metadata": {
    "scrolled": true
   },
   "outputs": [
    {
     "data": {
      "text/plain": [
       "(Male      170\n",
       " Female    152\n",
       " Name: gender, dtype: int64,\n",
       " Male      144\n",
       " Female    128\n",
       " Name: gender, dtype: int64)"
      ]
     },
     "execution_count": 15,
     "metadata": {},
     "output_type": "execute_result"
    }
   ],
   "source": [
    "chefdetails.gender.value_counts(), chefdetails_drop.gender.value_counts()"
   ]
  },
  {
   "cell_type": "markdown",
   "id": "3a10d7bd",
   "metadata": {},
   "source": [
    "Before I drop the duplicates, I get ***170 male, 152 female***.<br>\n",
    "After dropping the duplicates when name and gender are duplicated, I get ***144 male, 128 female***."
   ]
  },
  {
   "cell_type": "markdown",
   "id": "ab75a362",
   "metadata": {},
   "source": [
    "#### b. Among all winners (placement==1) how many are male and how many are female?"
   ]
  },
  {
   "cell_type": "code",
   "execution_count": 16,
   "id": "b95e5521",
   "metadata": {
    "scrolled": true
   },
   "outputs": [
    {
     "data": {
      "text/plain": [
       "Male      14\n",
       "Female     6\n",
       "Name: gender, dtype: int64"
      ]
     },
     "execution_count": 16,
     "metadata": {},
     "output_type": "execute_result"
    }
   ],
   "source": [
    "placement1 = chefdetails[chefdetails['placement'] == 1]\n",
    "placement1.gender.value_counts()"
   ]
  },
  {
   "cell_type": "code",
   "execution_count": 17,
   "id": "06d43b9e",
   "metadata": {},
   "outputs": [
    {
     "data": {
      "text/plain": [
       "Male      13\n",
       "Female     6\n",
       "Name: gender, dtype: int64"
      ]
     },
     "execution_count": 17,
     "metadata": {},
     "output_type": "execute_result"
    }
   ],
   "source": [
    "# using dropped dataframe\n",
    "placement1_drop = chefdetails_drop[chefdetails_drop['placement'] == 1]\n",
    "placement1_drop.gender.value_counts()"
   ]
  },
  {
   "cell_type": "markdown",
   "id": "2a4cebb5",
   "metadata": {},
   "source": [
    "With the original data, there are ***14 male, 6 female*** as winners.<br>\n",
    "With the dropped data, there are ***13 male, 6 female*** as winners."
   ]
  },
  {
   "cell_type": "markdown",
   "id": "3d1d4841",
   "metadata": {},
   "source": [
    "#### c. Among all sets of top 3 finalists (placement=1,2,3) how many are male and how many are female?"
   ]
  },
  {
   "cell_type": "code",
   "execution_count": 23,
   "id": "b41ca4ca",
   "metadata": {},
   "outputs": [
    {
     "data": {
      "text/plain": [
       "Male      36\n",
       "Female    25\n",
       "Name: gender, dtype: int64"
      ]
     },
     "execution_count": 23,
     "metadata": {},
     "output_type": "execute_result"
    }
   ],
   "source": [
    "placement1_3 = chefdetails[chefdetails['placement'] <= 3]\n",
    "placement1_3.gender.value_counts()"
   ]
  },
  {
   "cell_type": "markdown",
   "id": "8f785c3a",
   "metadata": {},
   "source": [
    "***36 male, 25 female*** are in the top 3 finalists (placement=1,2,3)"
   ]
  },
  {
   "cell_type": "markdown",
   "id": "59b3bb00",
   "metadata": {},
   "source": [
    "#### d. Compare the number of times a female was placed in the top 3 with the number of times a female won. Does this number seem unusual? That is, are women who place in the top 3 less likely than expected to ultimately win the competition? Why or why not?"
   ]
  },
  {
   "cell_type": "markdown",
   "id": "9db08354",
   "metadata": {},
   "source": [
    "I have no background on this show but given the question, the hypothesis would be based on a comparison of proportions.<br>\n",
    "\n",
    "Null Hypothesis (H0):\n",
    "There is no difference in the proportion of female contestants who win the competition (female winners) compared to the proportion of females in the rest of the top 3 (excluding the winner).<br>\n",
    "\n",
    "Alternative Hypothesis (H1):\n",
    "There is a difference in the proportion of female contestants who win the competition (female winners) compared to the proportion of females in the rest of the top 3 (excluding the winner).<br>"
   ]
  },
  {
   "cell_type": "code",
   "execution_count": 55,
   "id": "1bf5d4bd",
   "metadata": {
    "scrolled": true
   },
   "outputs": [
    {
     "data": {
      "text/html": [
       "<div>\n",
       "<style scoped>\n",
       "    .dataframe tbody tr th:only-of-type {\n",
       "        vertical-align: middle;\n",
       "    }\n",
       "\n",
       "    .dataframe tbody tr th {\n",
       "        vertical-align: top;\n",
       "    }\n",
       "\n",
       "    .dataframe thead th {\n",
       "        text-align: right;\n",
       "    }\n",
       "</style>\n",
       "<table border=\"1\" class=\"dataframe\">\n",
       "  <thead>\n",
       "    <tr style=\"text-align: right;\">\n",
       "      <th>gender</th>\n",
       "      <th>Female</th>\n",
       "      <th>Male</th>\n",
       "    </tr>\n",
       "    <tr>\n",
       "      <th>placement</th>\n",
       "      <th></th>\n",
       "      <th></th>\n",
       "    </tr>\n",
       "  </thead>\n",
       "  <tbody>\n",
       "    <tr>\n",
       "      <th>1</th>\n",
       "      <td>6</td>\n",
       "      <td>14</td>\n",
       "    </tr>\n",
       "    <tr>\n",
       "      <th>2</th>\n",
       "      <td>15</td>\n",
       "      <td>14</td>\n",
       "    </tr>\n",
       "    <tr>\n",
       "      <th>3</th>\n",
       "      <td>4</td>\n",
       "      <td>8</td>\n",
       "    </tr>\n",
       "    <tr>\n",
       "      <th>4</th>\n",
       "      <td>11</td>\n",
       "      <td>9</td>\n",
       "    </tr>\n",
       "    <tr>\n",
       "      <th>5</th>\n",
       "      <td>6</td>\n",
       "      <td>13</td>\n",
       "    </tr>\n",
       "    <tr>\n",
       "      <th>6</th>\n",
       "      <td>6</td>\n",
       "      <td>14</td>\n",
       "    </tr>\n",
       "    <tr>\n",
       "      <th>7</th>\n",
       "      <td>12</td>\n",
       "      <td>8</td>\n",
       "    </tr>\n",
       "    <tr>\n",
       "      <th>8</th>\n",
       "      <td>11</td>\n",
       "      <td>9</td>\n",
       "    </tr>\n",
       "    <tr>\n",
       "      <th>9</th>\n",
       "      <td>5</td>\n",
       "      <td>15</td>\n",
       "    </tr>\n",
       "    <tr>\n",
       "      <th>10</th>\n",
       "      <td>9</td>\n",
       "      <td>14</td>\n",
       "    </tr>\n",
       "    <tr>\n",
       "      <th>11</th>\n",
       "      <td>15</td>\n",
       "      <td>5</td>\n",
       "    </tr>\n",
       "    <tr>\n",
       "      <th>12</th>\n",
       "      <td>11</td>\n",
       "      <td>8</td>\n",
       "    </tr>\n",
       "    <tr>\n",
       "      <th>13</th>\n",
       "      <td>9</td>\n",
       "      <td>10</td>\n",
       "    </tr>\n",
       "    <tr>\n",
       "      <th>14</th>\n",
       "      <td>6</td>\n",
       "      <td>11</td>\n",
       "    </tr>\n",
       "    <tr>\n",
       "      <th>15</th>\n",
       "      <td>15</td>\n",
       "      <td>6</td>\n",
       "    </tr>\n",
       "    <tr>\n",
       "      <th>16</th>\n",
       "      <td>6</td>\n",
       "      <td>6</td>\n",
       "    </tr>\n",
       "    <tr>\n",
       "      <th>17</th>\n",
       "      <td>4</td>\n",
       "      <td>3</td>\n",
       "    </tr>\n",
       "    <tr>\n",
       "      <th>18</th>\n",
       "      <td>1</td>\n",
       "      <td>2</td>\n",
       "    </tr>\n",
       "    <tr>\n",
       "      <th>19</th>\n",
       "      <td>0</td>\n",
       "      <td>1</td>\n",
       "    </tr>\n",
       "  </tbody>\n",
       "</table>\n",
       "</div>"
      ],
      "text/plain": [
       "gender     Female  Male\n",
       "placement              \n",
       "1               6    14\n",
       "2              15    14\n",
       "3               4     8\n",
       "4              11     9\n",
       "5               6    13\n",
       "6               6    14\n",
       "7              12     8\n",
       "8              11     9\n",
       "9               5    15\n",
       "10              9    14\n",
       "11             15     5\n",
       "12             11     8\n",
       "13              9    10\n",
       "14              6    11\n",
       "15             15     6\n",
       "16              6     6\n",
       "17              4     3\n",
       "18              1     2\n",
       "19              0     1"
      ]
     },
     "execution_count": 55,
     "metadata": {},
     "output_type": "execute_result"
    }
   ],
   "source": [
    "placement_cnt = chefdetails.groupby(['placement', 'gender']).size().unstack(fill_value=0)\n",
    "placement_cnt"
   ]
  },
  {
   "cell_type": "code",
   "execution_count": 56,
   "id": "c853ea2c",
   "metadata": {
    "scrolled": false
   },
   "outputs": [
    {
     "name": "stdout",
     "output_type": "stream",
     "text": [
      "Number of females in the top 3: 25\n",
      "Number of female winners: 6\n",
      "Ratio of female winners among females placed in the top 3: 0.24\n"
     ]
    }
   ],
   "source": [
    "f_top3 = placement_cnt['Female'][[1, 2, 3]].sum()\n",
    "f_winners = placement_cnt['Female'][1]\n",
    "\n",
    "print(\"Number of females in the top 3:\", f_top3)\n",
    "print(\"Number of female winners:\", f_winners)\n",
    "\n",
    "ratio = f_winners / f_top3\n",
    "print(\"Ratio of female winners among females placed in the top 3:\", ratio)"
   ]
  },
  {
   "cell_type": "code",
   "execution_count": 57,
   "id": "5e0c4dbb",
   "metadata": {},
   "outputs": [
    {
     "name": "stdout",
     "output_type": "stream",
     "text": [
      "Observed Data:\n",
      "[[ 6 19]]\n",
      "\n",
      "Expected Frequencies:\n",
      "Expected Winners: 6\n",
      "Expected Rest of Top 3: 19\n",
      "\n",
      "Chi-Square Statistic: 0.0\n",
      "P-Value: 1.0\n",
      "\n",
      "Fail to reject the null hypothesis. There is no significant difference.\n"
     ]
    }
   ],
   "source": [
    "import numpy as np\n",
    "from scipy.stats import chi2_contingency\n",
    "\n",
    "alpha = 0.05\n",
    "\n",
    "# expected frequencies\n",
    "total_females = f_top3\n",
    "expected_winners = f_winners\n",
    "expected_rest_top3 = total_females - expected_winners\n",
    "\n",
    "# the observed data matrix\n",
    "observed_data = np.array([[f_winners, expected_rest_top3]])\n",
    "\n",
    "# chi-square test\n",
    "chi2, p, _, _ = chi2_contingency(observed_data)\n",
    "\n",
    "# Print results\n",
    "print(\"Observed Data:\")\n",
    "print(observed_data)\n",
    "\n",
    "print(\"\\nExpected Frequencies:\")\n",
    "print(\"Expected Winners:\", expected_winners)\n",
    "print(\"Expected Rest of Top 3:\", expected_rest_top3)\n",
    "\n",
    "print(\"\\nChi-Square Statistic:\", chi2)\n",
    "print(\"P-Value:\", p)\n",
    "\n",
    "# Make a decision\n",
    "if p < alpha:\n",
    "    print(\"\\nReject the null hypothesis. There is a significant difference.\")\n",
    "else:\n",
    "    print(\"\\nFail to reject the null hypothesis. There is no significant difference.\")\n"
   ]
  },
  {
   "cell_type": "markdown",
   "id": "6adce310",
   "metadata": {},
   "source": [
    "### 4. Make a table with one row for each first place winner containing the winner’s name, the season they won, and a column containing ‘Yes’ or ‘No’ depending on whether they served as a guest judge or not."
   ]
  },
  {
   "cell_type": "code",
   "execution_count": 58,
   "id": "602fb079",
   "metadata": {},
   "outputs": [
    {
     "data": {
      "text/plain": [
       "(Index(['season', 'seasonNumber', 'name', 'placement', 'gender'], dtype='object'),\n",
       " Index(['season', 'seasonNumber', 'episode', 'challengeType', 'guestJudge',\n",
       "        'competedOnTC'],\n",
       "       dtype='object'))"
      ]
     },
     "execution_count": 58,
     "metadata": {},
     "output_type": "execute_result"
    }
   ],
   "source": [
    "chefdetails.columns, judges.columns"
   ]
  },
  {
   "cell_type": "code",
   "execution_count": 59,
   "id": "0b48647f",
   "metadata": {},
   "outputs": [],
   "source": [
    "chefdetails_merge_4 = placement1[['name', 'season']]"
   ]
  },
  {
   "cell_type": "code",
   "execution_count": 60,
   "id": "36b02dd4",
   "metadata": {},
   "outputs": [],
   "source": [
    "judges_merge_4 = judges[['guestJudge', 'competedOnTC']]"
   ]
  },
  {
   "cell_type": "code",
   "execution_count": 61,
   "id": "6e999e98",
   "metadata": {
    "scrolled": false
   },
   "outputs": [
    {
     "data": {
      "text/html": [
       "<div>\n",
       "<style scoped>\n",
       "    .dataframe tbody tr th:only-of-type {\n",
       "        vertical-align: middle;\n",
       "    }\n",
       "\n",
       "    .dataframe tbody tr th {\n",
       "        vertical-align: top;\n",
       "    }\n",
       "\n",
       "    .dataframe thead th {\n",
       "        text-align: right;\n",
       "    }\n",
       "</style>\n",
       "<table border=\"1\" class=\"dataframe\">\n",
       "  <thead>\n",
       "    <tr style=\"text-align: right;\">\n",
       "      <th></th>\n",
       "      <th>name</th>\n",
       "      <th>season</th>\n",
       "      <th>competedOnTC</th>\n",
       "    </tr>\n",
       "  </thead>\n",
       "  <tbody>\n",
       "    <tr>\n",
       "      <th>0</th>\n",
       "      <td>Richard Blais</td>\n",
       "      <td>All Stars: New York</td>\n",
       "      <td>Yes</td>\n",
       "    </tr>\n",
       "    <tr>\n",
       "      <th>7</th>\n",
       "      <td>Melissa King</td>\n",
       "      <td>All-Stars L.A.</td>\n",
       "      <td>Yes</td>\n",
       "    </tr>\n",
       "    <tr>\n",
       "      <th>10</th>\n",
       "      <td>Mei Lin</td>\n",
       "      <td>Boston</td>\n",
       "      <td>No</td>\n",
       "    </tr>\n",
       "    <tr>\n",
       "      <th>11</th>\n",
       "      <td>Jeremy Ford</td>\n",
       "      <td>California</td>\n",
       "      <td>No</td>\n",
       "    </tr>\n",
       "    <tr>\n",
       "      <th>12</th>\n",
       "      <td>Brooke Williamson</td>\n",
       "      <td>Charleston</td>\n",
       "      <td>Yes</td>\n",
       "    </tr>\n",
       "    <tr>\n",
       "      <th>20</th>\n",
       "      <td>Stephanie Izard</td>\n",
       "      <td>Chicago</td>\n",
       "      <td>Yes</td>\n",
       "    </tr>\n",
       "    <tr>\n",
       "      <th>25</th>\n",
       "      <td>Kevin Sbraga</td>\n",
       "      <td>D.C.</td>\n",
       "      <td>No</td>\n",
       "    </tr>\n",
       "    <tr>\n",
       "      <th>26</th>\n",
       "      <td>Joseph Flamm</td>\n",
       "      <td>Colorado</td>\n",
       "      <td>No</td>\n",
       "    </tr>\n",
       "    <tr>\n",
       "      <th>27</th>\n",
       "      <td>Kah-wai Lo</td>\n",
       "      <td>Houston</td>\n",
       "      <td>No</td>\n",
       "    </tr>\n",
       "    <tr>\n",
       "      <th>28</th>\n",
       "      <td>Kelsey Barnard Clark</td>\n",
       "      <td>Kentucky</td>\n",
       "      <td>Yes</td>\n",
       "    </tr>\n",
       "    <tr>\n",
       "      <th>30</th>\n",
       "      <td>Michael Voltaggio</td>\n",
       "      <td>Las Vegas</td>\n",
       "      <td>Yes</td>\n",
       "    </tr>\n",
       "    <tr>\n",
       "      <th>35</th>\n",
       "      <td>Ilan Hall</td>\n",
       "      <td>Los Angeles</td>\n",
       "      <td>Yes</td>\n",
       "    </tr>\n",
       "    <tr>\n",
       "      <th>36</th>\n",
       "      <td>Hung Huynh</td>\n",
       "      <td>Miami</td>\n",
       "      <td>Yes</td>\n",
       "    </tr>\n",
       "    <tr>\n",
       "      <th>39</th>\n",
       "      <td>Nicholas Elmi</td>\n",
       "      <td>New Orleans</td>\n",
       "      <td>No</td>\n",
       "    </tr>\n",
       "    <tr>\n",
       "      <th>40</th>\n",
       "      <td>Hosea Rosenberg</td>\n",
       "      <td>New York</td>\n",
       "      <td>Yes</td>\n",
       "    </tr>\n",
       "    <tr>\n",
       "      <th>41</th>\n",
       "      <td>Gabe Erales</td>\n",
       "      <td>Portland</td>\n",
       "      <td>No</td>\n",
       "    </tr>\n",
       "    <tr>\n",
       "      <th>42</th>\n",
       "      <td>Harold Dieterle</td>\n",
       "      <td>San Francisco</td>\n",
       "      <td>Yes</td>\n",
       "    </tr>\n",
       "    <tr>\n",
       "      <th>45</th>\n",
       "      <td>Kristen Kish</td>\n",
       "      <td>Seattle</td>\n",
       "      <td>Yes</td>\n",
       "    </tr>\n",
       "    <tr>\n",
       "      <th>47</th>\n",
       "      <td>Paul Qui</td>\n",
       "      <td>Texas</td>\n",
       "      <td>No</td>\n",
       "    </tr>\n",
       "    <tr>\n",
       "      <th>48</th>\n",
       "      <td>Kah-wai Lo</td>\n",
       "      <td>World All Stars</td>\n",
       "      <td>No</td>\n",
       "    </tr>\n",
       "  </tbody>\n",
       "</table>\n",
       "</div>"
      ],
      "text/plain": [
       "                    name               season competedOnTC\n",
       "0          Richard Blais  All Stars: New York          Yes\n",
       "7           Melissa King       All-Stars L.A.          Yes\n",
       "10               Mei Lin               Boston           No\n",
       "11           Jeremy Ford           California           No\n",
       "12     Brooke Williamson           Charleston          Yes\n",
       "20       Stephanie Izard              Chicago          Yes\n",
       "25          Kevin Sbraga                 D.C.           No\n",
       "26          Joseph Flamm             Colorado           No\n",
       "27            Kah-wai Lo              Houston           No\n",
       "28  Kelsey Barnard Clark             Kentucky          Yes\n",
       "30     Michael Voltaggio            Las Vegas          Yes\n",
       "35             Ilan Hall          Los Angeles          Yes\n",
       "36            Hung Huynh                Miami          Yes\n",
       "39         Nicholas Elmi          New Orleans           No\n",
       "40       Hosea Rosenberg             New York          Yes\n",
       "41           Gabe Erales             Portland           No\n",
       "42       Harold Dieterle        San Francisco          Yes\n",
       "45          Kristen Kish              Seattle          Yes\n",
       "47              Paul Qui                Texas           No\n",
       "48            Kah-wai Lo      World All Stars           No"
      ]
     },
     "execution_count": 61,
     "metadata": {},
     "output_type": "execute_result"
    }
   ],
   "source": [
    "# merge data\n",
    "merged_data = pd.merge(chefdetails_merge_4, judges_merge_4, left_on='name', right_on='guestJudge', how='left').drop_duplicates()\n",
    "# NaN to \"No\"\n",
    "merged_data['competedOnTC'].fillna('No', inplace=True)\n",
    "\n",
    "# drop 'guestJudge' column\n",
    "merged_data.drop('guestJudge', axis=1, inplace=True)\n",
    "merged_data"
   ]
  },
  {
   "cell_type": "markdown",
   "id": "8fb7beeb",
   "metadata": {},
   "source": [
    "### 5. Find all contestants who were not first place winners but did serve as a guest judge at some point. Make sure to only list each name once."
   ]
  },
  {
   "cell_type": "code",
   "execution_count": 62,
   "id": "7a6665cd",
   "metadata": {},
   "outputs": [
    {
     "name": "stdout",
     "output_type": "stream",
     "text": [
      "Retrieved 255 records\n"
     ]
    }
   ],
   "source": [
    "query = \"\"\" SELECT DISTINCT\n",
    "                cd.name,\n",
    "                COALESCE(CASE WHEN j.guestJudge IS NOT NULL THEN 'yes' ELSE 'no' END, 'no') AS guestJudge\n",
    "            FROM\n",
    "                chefdetails cd\n",
    "            LEFT JOIN\n",
    "                judges j ON cd.name = j.guestJudge\n",
    "            WHERE\n",
    "                cd.placement != 1\n",
    "                AND cd.season NOT LIKE '%Masters%'\n",
    "                AND cd.season NOT LIKE '%Canada 6%'\n",
    "            ORDER BY\n",
    "                cd.seasonNumber;\n",
    "            ;\"\"\"\n",
    "            \n",
    "df5 = df_select(query, engine)"
   ]
  },
  {
   "cell_type": "code",
   "execution_count": 63,
   "id": "1ed62167",
   "metadata": {},
   "outputs": [
    {
     "data": {
      "text/plain": [
       "0         Miguel Morales\n",
       "1        Michael Midgley\n",
       "2           Betty Fraser\n",
       "3     Josie Smith-Malave\n",
       "4          Richard Blais\n",
       "5         Stefan Richter\n",
       "6          Mike Isabella\n",
       "7         Antonia Lofaso\n",
       "8          Tiffany Derry\n",
       "9             Dale Talde\n",
       "10      Spike Mendelsohn\n",
       "11      Stephen Asprinio\n",
       "12            Edward Lee\n",
       "13      Nyesha Arrington\n",
       "14     Brooke Williamson\n",
       "15          Nina Compton\n",
       "16         Carlos Gaytan\n",
       "17          Melissa King\n",
       "18          Amar Santana\n",
       "19        Kwame Onwuachi\n",
       "20        Sheldon Simeon\n",
       "21            Sam Talbot\n",
       "22     Adrienne Cheatham\n",
       "23          Carrie Baird\n",
       "24       Bryan Voltaggio\n",
       "25       Gregory Gourdet\n",
       "26       Karen Akunowicz\n",
       "27         Lee Anne Wong\n",
       "28           Nini Nguyen\n",
       "29          Dawn Burrell\n",
       "30        Shota Nakajima\n",
       "31          Nicole Gomes\n",
       "Name: name, dtype: object"
      ]
     },
     "execution_count": 63,
     "metadata": {},
     "output_type": "execute_result"
    }
   ],
   "source": [
    "df5 = df5[df5[\"guestJudge\"] == \"yes\"][\"name\"].reset_index(drop = True)\n",
    "df5"
   ]
  }
 ],
 "metadata": {
  "kernelspec": {
   "display_name": "Python 3 (ipykernel)",
   "language": "python",
   "name": "python3"
  },
  "language_info": {
   "codemirror_mode": {
    "name": "ipython",
    "version": 3
   },
   "file_extension": ".py",
   "mimetype": "text/x-python",
   "name": "python",
   "nbconvert_exporter": "python",
   "pygments_lexer": "ipython3",
   "version": "3.11.3"
  }
 },
 "nbformat": 4,
 "nbformat_minor": 5
}
