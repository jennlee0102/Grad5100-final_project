{
 "cells": [
  {
   "cell_type": "markdown",
   "id": "bd9a454c",
   "metadata": {},
   "source": [
    "## Part 2\n",
    "Your answer to this part should be a jupyter notebook file called file_fun.ipynb. This notebook should include the function asked for in part one together with the code to create the files described in part 2. You will include this file in your submitted github repository. <br>\n",
    "The file codes.txt consists of 50 lines. Each line is a code of the following form: xxxxx_nnnnn_extension where xxxxx is a 5 digit number, nnnnn is a five digit alphabetic code, and extension is one of ‘py’,‘txt’, or ‘csv’."
   ]
  },
  {
   "cell_type": "code",
   "execution_count": 18,
   "id": "1e2db416",
   "metadata": {},
   "outputs": [],
   "source": [
    "import numpy as np\n",
    "import os"
   ]
  },
  {
   "cell_type": "markdown",
   "id": "fcd2b249",
   "metadata": {},
   "source": [
    "1. Write a function that takes a string of this form, extracts the alphabetic code nnnnn and the extension and returns a string of the form nnnnn.extension. So, for example, given ‘35538_YLTRR_csv’ it returns ‘YLTRR.csv’."
   ]
  },
  {
   "cell_type": "code",
   "execution_count": 19,
   "id": "0593616f",
   "metadata": {
    "scrolled": true
   },
   "outputs": [],
   "source": [
    "def extract_code_and_extension(code_string):\n",
    "    code_ext = code_string.split('_')\n",
    "    alph_code = code_ext[1]\n",
    "    ext = code_ext[2]\n",
    "    return f'{alph_code}.{ext}'"
   ]
  },
  {
   "cell_type": "code",
   "execution_count": 20,
   "id": "af75087d",
   "metadata": {
    "scrolled": true
   },
   "outputs": [
    {
     "name": "stdout",
     "output_type": "stream",
     "text": [
      "26167_ZCOPM_py\n",
      "69118_WREZP_py\n",
      "20278_BOCOV_txt\n",
      "82542_TRNPP_txt\n",
      "50874_PXFVT_py\n",
      "35059_NQLMN_py\n",
      "90941_JOIBU_txt\n",
      "82187_XAGTS_py\n",
      "95034_ICOSX_py\n",
      "67809_ORWMC_py\n",
      "15884_LRCWT_txt\n",
      "52853_JTANV_py\n",
      "35208_MTNKQ_py\n",
      "13430_SFUAN_txt\n",
      "75042_AINQQ_py\n",
      "88888_BRITJ_txt\n",
      "68403_CVVAW_txt\n",
      "79773_EEYIX_csv\n",
      "45290_YUPAG_txt\n",
      "49966_VVKWW_py\n",
      "32446_WDNBE_txt\n",
      "27279_RHAYN_py\n",
      "96674_OFDGE_txt\n",
      "82958_XSMJD_txt\n",
      "87282_ECXJA_csv\n",
      "95625_FFXUT_py\n",
      "55848_AHKAM_csv\n",
      "12492_OIJJU_txt\n",
      "69069_NJSBK_txt\n",
      "61477_GJPTS_csv\n",
      "77478_OAUWT_txt\n",
      "35568_JQNZU_csv\n",
      "14864_RNFVB_csv\n",
      "58085_APZTE_py\n",
      "16183_BUIAR_txt\n",
      "37903_GGHZL_txt\n",
      "87070_UYHCG_csv\n",
      "50233_GSRFM_txt\n",
      "25014_CGOHK_py\n",
      "76568_UEUTJ_csv\n",
      "51268_BXXNW_csv\n",
      "56163_YNOGN_txt\n",
      "74324_TTGSR_txt\n",
      "51104_DHACA_csv\n",
      "86220_XKLIA_csv\n",
      "75965_CDUFO_csv\n",
      "16279_LYRQF_txt\n",
      "95896_LZCWS_txt\n",
      "19975_KTWBT_txt\n",
      "31114_BCTOB_txt\n"
     ]
    }
   ],
   "source": [
    "# with open('file_name', 'mode') as myfile\n",
    "# mode 'r': to open text file for reading.\n",
    "with open('codes.txt', 'r') as file:\n",
    "    # reads the entire content of the file and splits this content into a list of lines\n",
    "    lines = file.read().splitlines()\n",
    "\n",
    "for line in lines:\n",
    "    print(line)"
   ]
  },
  {
   "cell_type": "code",
   "execution_count": 21,
   "id": "bdc761dd",
   "metadata": {},
   "outputs": [
    {
     "data": {
      "text/plain": [
       "'ZCOPM.py'"
      ]
     },
     "execution_count": 21,
     "metadata": {},
     "output_type": "execute_result"
    }
   ],
   "source": [
    "# test\n",
    "extract_code_and_extension(lines[0])"
   ]
  },
  {
   "cell_type": "markdown",
   "id": "0448ea99",
   "metadata": {},
   "source": [
    "2. Using your function, write code that reads in the entries from codes.txt and for each code writes the 5 digit number xxxxx into a file named nnnnn.extension constructed by your function in part 1. All of these files should be contained in a subdirectory of your main project directory called ‘expanded’. So for example, you would create a file called expanded/YLTRR.csv containing (just) 35538."
   ]
  },
  {
   "cell_type": "code",
   "execution_count": 22,
   "id": "187cac55",
   "metadata": {},
   "outputs": [],
   "source": [
    "# create 'expanded' directory\n",
    "# exist_ok=True: the function does not raise an error if the directory already exists\n",
    "expanded_dir = os.path.join(os.getcwd(), 'expanded')\n",
    "os.makedirs(expanded_dir, exist_ok=True)"
   ]
  },
  {
   "cell_type": "code",
   "execution_count": 23,
   "id": "f29c6bcc",
   "metadata": {},
   "outputs": [],
   "source": [
    "# writes the 5 digit number xxxxx into a file named nnnnn.extension\n",
    "for line in lines:\n",
    "    code_and_extension = extract_code_and_extension(line)\n",
    "    code = line.split('_')[0]\n",
    "    file_path = os.path.join('expanded', code_and_extension)\n",
    "    \n",
    "    with open(file_path, 'w') as file:\n",
    "        file.write(code)"
   ]
  },
  {
   "cell_type": "code",
   "execution_count": 24,
   "id": "2025fae2",
   "metadata": {},
   "outputs": [
    {
     "data": {
      "text/plain": [
       "'BCTOB.txt'"
      ]
     },
     "execution_count": 24,
     "metadata": {},
     "output_type": "execute_result"
    }
   ],
   "source": [
    "code_and_extension = extract_code_and_extension(line)\n",
    "code_and_extension"
   ]
  }
 ],
 "metadata": {
  "kernelspec": {
   "display_name": "Python 3 (ipykernel)",
   "language": "python",
   "name": "python3"
  },
  "language_info": {
   "codemirror_mode": {
    "name": "ipython",
    "version": 3
   },
   "file_extension": ".py",
   "mimetype": "text/x-python",
   "name": "python",
   "nbconvert_exporter": "python",
   "pygments_lexer": "ipython3",
   "version": "3.11.3"
  }
 },
 "nbformat": 4,
 "nbformat_minor": 5
}
